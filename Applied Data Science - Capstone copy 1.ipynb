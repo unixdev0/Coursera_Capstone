{
    "nbformat_minor": 1, 
    "cells": [
        {
            "source": "# Applied Data Science - Capstone Project", 
            "cell_type": "markdown", 
            "metadata": {
                "collapsed": true
            }
        }, 
        {
            "source": "## Install required Python packages", 
            "cell_type": "markdown", 
            "metadata": {}
        }, 
        {
            "source": "!conda install -c conda-forge geopy --yes \n!conda install -c conda-forge folium --yes \n!conda install -c conda-forge pyquery --yes", 
            "cell_type": "code", 
            "metadata": {}, 
            "outputs": [
                {
                    "output_type": "stream", 
                    "name": "stdout", 
                    "text": "Solving environment: done\n\n## Package Plan ##\n\n  environment location: /opt/ibm/conda/miniconda3\n\n  added / updated specs: \n    - geopy\n\n\nThe following packages will be downloaded:\n\n    package                    |            build\n    ---------------------------|-----------------\n    openssl-1.0.2p             |       h470a237_0         3.5 MB  conda-forge\n    geopy-1.16.0               |             py_0          50 KB  conda-forge\n    geographiclib-1.49         |             py_0          32 KB  conda-forge\n    certifi-2018.8.24          |           py35_1         138 KB  conda-forge\n    conda-4.5.11               |           py35_0         636 KB  conda-forge\n    ca-certificates-2018.8.24  |       ha4d7672_0         136 KB  conda-forge\n    ------------------------------------------------------------\n                                           Total:         4.5 MB\n\nThe following NEW packages will be INSTALLED:\n\n    geographiclib:   1.49-py_0             conda-forge\n    geopy:           1.16.0-py_0           conda-forge\n\nThe following packages will be UPDATED:\n\n    ca-certificates: 2017.08.26-h1d4fec5_0             --> 2018.8.24-ha4d7672_0 conda-forge\n    certifi:         2018.1.18-py35_0                  --> 2018.8.24-py35_1     conda-forge\n    conda:           4.5.11-py35_0                     --> 4.5.11-py35_0        conda-forge\n    openssl:         1.0.2o-h20670df_0                 --> 1.0.2p-h470a237_0    conda-forge\n\n\nDownloading and Extracting Packages\nopenssl-1.0.2p       | 3.5 MB    | ##################################### | 100% \ngeopy-1.16.0         | 50 KB     | ##################################### | 100% \ngeographiclib-1.49   | 32 KB     | ##################################### | 100% \ncertifi-2018.8.24    | 138 KB    | ##################################### | 100% \nconda-4.5.11         | 636 KB    | ##################################### | 100% \nca-certificates-2018 | 136 KB    | ##################################### | 100% \nPreparing transaction: done\nVerifying transaction: done\nExecuting transaction: done\nSolving environment: done\n\n## Package Plan ##\n\n  environment location: /opt/ibm/conda/miniconda3\n\n  added / updated specs: \n    - folium\n\n\nThe following packages will be downloaded:\n\n    package                    |            build\n    ---------------------------|-----------------\n    vincent-0.4.4              |             py_1          28 KB  conda-forge\n    branca-0.3.0               |             py_0          24 KB  conda-forge\n    folium-0.6.0               |             py_0          51 KB  conda-forge\n    altair-2.2.2               |           py35_1         462 KB  conda-forge\n    ------------------------------------------------------------\n                                           Total:         565 KB\n\nThe following NEW packages will be INSTALLED:\n\n    altair:  2.2.2-py35_1 conda-forge\n    branca:  0.3.0-py_0   conda-forge\n    folium:  0.6.0-py_0   conda-forge\n    vincent: 0.4.4-py_1   conda-forge\n\n\nDownloading and Extracting Packages\nvincent-0.4.4        | 28 KB     | ##################################### | 100% \nbranca-0.3.0         | 24 KB     | ##################################### | 100% \nfolium-0.6.0         | 51 KB     | ##################################### | 100% \naltair-2.2.2         | 462 KB    | ##################################### | 100% \nPreparing transaction: done\nVerifying transaction: done\nExecuting transaction: done\nSolving environment: done\n\n## Package Plan ##\n\n  environment location: /opt/ibm/conda/miniconda3\n\n  added / updated specs: \n    - pyquery\n\n\nThe following packages will be downloaded:\n\n    package                    |            build\n    ---------------------------|-----------------\n    cssselect-1.0.3            |             py_0          16 KB  conda-forge\n    pyquery-1.4.0              |             py_0          20 KB  conda-forge\n    ------------------------------------------------------------\n                                           Total:          36 KB\n\nThe following NEW packages will be INSTALLED:\n\n    cssselect: 1.0.3-py_0 conda-forge\n    pyquery:   1.4.0-py_0 conda-forge\n\n\nDownloading and Extracting Packages\ncssselect-1.0.3      | 16 KB     | ##################################### | 100% \npyquery-1.4.0        | 20 KB     | ##################################### | 100% \nPreparing transaction: done\nVerifying transaction: done\nExecuting transaction: done\n"
                }
            ], 
            "execution_count": 15
        }, 
        {
            "source": "## Get Wiki page containing Toronto Boroughs/Neighborhoods\n### Note: using pandas.io.hmtl to get the wiki table into pandas DataFrame", 
            "cell_type": "markdown", 
            "metadata": {}
        }, 
        {
            "source": "import pandas as pd\nimport requests\nfrom bs4 import BeautifulSoup\n\nres = requests.get(\"https://en.wikipedia.org/wiki/List_of_postal_codes_of_Canada:_M\")\nsoup = BeautifulSoup(res.content,'lxml')\nwikitables = soup.find_all('table') \nToronto = pd.read_html(str(wikitables[0]), index_col=None, header=0)[0]\nToronto.head()", 
            "cell_type": "code", 
            "metadata": {}, 
            "outputs": [
                {
                    "output_type": "execute_result", 
                    "data": {
                        "text/plain": "  Postcode           Borough     Neighbourhood\n0      M1A      Not assigned      Not assigned\n1      M2A      Not assigned      Not assigned\n2      M3A        North York         Parkwoods\n3      M4A        North York  Victoria Village\n4      M5A  Downtown Toronto      Harbourfront", 
                        "text/html": "<div>\n<style scoped>\n    .dataframe tbody tr th:only-of-type {\n        vertical-align: middle;\n    }\n\n    .dataframe tbody tr th {\n        vertical-align: top;\n    }\n\n    .dataframe thead th {\n        text-align: right;\n    }\n</style>\n<table border=\"1\" class=\"dataframe\">\n  <thead>\n    <tr style=\"text-align: right;\">\n      <th></th>\n      <th>Postcode</th>\n      <th>Borough</th>\n      <th>Neighbourhood</th>\n    </tr>\n  </thead>\n  <tbody>\n    <tr>\n      <th>0</th>\n      <td>M1A</td>\n      <td>Not assigned</td>\n      <td>Not assigned</td>\n    </tr>\n    <tr>\n      <th>1</th>\n      <td>M2A</td>\n      <td>Not assigned</td>\n      <td>Not assigned</td>\n    </tr>\n    <tr>\n      <th>2</th>\n      <td>M3A</td>\n      <td>North York</td>\n      <td>Parkwoods</td>\n    </tr>\n    <tr>\n      <th>3</th>\n      <td>M4A</td>\n      <td>North York</td>\n      <td>Victoria Village</td>\n    </tr>\n    <tr>\n      <th>4</th>\n      <td>M5A</td>\n      <td>Downtown Toronto</td>\n      <td>Harbourfront</td>\n    </tr>\n  </tbody>\n</table>\n</div>"
                    }, 
                    "execution_count": 16, 
                    "metadata": {}
                }
            ], 
            "execution_count": 16
        }, 
        {
            "source": "# TO VERIFY THAT BOTH METHODS PRODUCE SIMILAR DIMENSIONS\nToronto.shape", 
            "cell_type": "code", 
            "metadata": {}, 
            "outputs": [
                {
                    "output_type": "execute_result", 
                    "data": {
                        "text/plain": "(289, 3)"
                    }, 
                    "execution_count": 17, 
                    "metadata": {}
                }
            ], 
            "execution_count": 17
        }, 
        {
            "source": "## Alternative way to read in the content and produce a dataframe using pandas.io.html\n### Note: Results are consistent between the two methods", 
            "cell_type": "markdown", 
            "metadata": {}
        }, 
        {
            "source": "import requests\nimport numpy as np\nimport pandas as pd\nfrom pandas.io.html import read_html\n\n# Define the wiki page url var\nWIKI_URL = \"https://en.wikipedia.org/wiki/List_of_postal_codes_of_Canada:_M\"\n# Issue HTTP request to get the URL content\nreq = requests.get(WIKI_URL)\n# Use pandas read_html to read in the content\nwikitables = read_html(WIKI_URL, index_col=None, header=0, attrs={\"class\":[\"sortable\",\"wikitable\"]})\n# Get pandas dataframe\nToronto = wikitables[0]\nToronto.head()", 
            "cell_type": "code", 
            "metadata": {}, 
            "outputs": [
                {
                    "output_type": "execute_result", 
                    "data": {
                        "text/plain": "  Postcode           Borough     Neighbourhood\n0      M1A      Not assigned      Not assigned\n1      M2A      Not assigned      Not assigned\n2      M3A        North York         Parkwoods\n3      M4A        North York  Victoria Village\n4      M5A  Downtown Toronto      Harbourfront", 
                        "text/html": "<div>\n<style scoped>\n    .dataframe tbody tr th:only-of-type {\n        vertical-align: middle;\n    }\n\n    .dataframe tbody tr th {\n        vertical-align: top;\n    }\n\n    .dataframe thead th {\n        text-align: right;\n    }\n</style>\n<table border=\"1\" class=\"dataframe\">\n  <thead>\n    <tr style=\"text-align: right;\">\n      <th></th>\n      <th>Postcode</th>\n      <th>Borough</th>\n      <th>Neighbourhood</th>\n    </tr>\n  </thead>\n  <tbody>\n    <tr>\n      <th>0</th>\n      <td>M1A</td>\n      <td>Not assigned</td>\n      <td>Not assigned</td>\n    </tr>\n    <tr>\n      <th>1</th>\n      <td>M2A</td>\n      <td>Not assigned</td>\n      <td>Not assigned</td>\n    </tr>\n    <tr>\n      <th>2</th>\n      <td>M3A</td>\n      <td>North York</td>\n      <td>Parkwoods</td>\n    </tr>\n    <tr>\n      <th>3</th>\n      <td>M4A</td>\n      <td>North York</td>\n      <td>Victoria Village</td>\n    </tr>\n    <tr>\n      <th>4</th>\n      <td>M5A</td>\n      <td>Downtown Toronto</td>\n      <td>Harbourfront</td>\n    </tr>\n  </tbody>\n</table>\n</div>"
                    }, 
                    "execution_count": 18, 
                    "metadata": {}
                }
            ], 
            "execution_count": 18
        }, 
        {
            "source": "# TO VERIFY THAT BOTH METHODS PRODUCE SIMILAR DIMENSIONS\nToronto.shape", 
            "cell_type": "code", 
            "metadata": {}, 
            "outputs": [
                {
                    "output_type": "execute_result", 
                    "data": {
                        "text/plain": "(289, 3)"
                    }, 
                    "execution_count": 19, 
                    "metadata": {}
                }
            ], 
            "execution_count": 19
        }, 
        {
            "source": "## Data cleaning", 
            "cell_type": "markdown", 
            "metadata": {}
        }, 
        {
            "source": "# Empty entries to np.nan to drop them in the next step\nToronto['Borough'].replace('', np.nan, inplace=True)\n# Drop np.nan to remove rows not containing meaningful data\nToronto.dropna(subset=['Borough'], inplace=True)\n# Leave behind rows containing 'Not assigned' in 'Borough'\nToronto = Toronto[Toronto['Borough'] != 'Not assigned']", 
            "cell_type": "code", 
            "metadata": {}, 
            "outputs": [], 
            "execution_count": 20
        }, 
        {
            "source": "## Data processing - 'Not assigned' to value", 
            "cell_type": "markdown", 
            "metadata": {}
        }, 
        {
            "source": "# Iterate over the dataframe and fix 'Not assigned' for column 'Neighborhood'\nfor i, _ in Toronto.iterrows():\n    if Toronto.loc[i]['Neighbourhood'] == 'Not assigned': Toronto.loc[i]['Neighborhood'] = Toronto.loc[i]['Borough']", 
            "cell_type": "code", 
            "metadata": {}, 
            "outputs": [], 
            "execution_count": 21
        }, 
        {
            "source": "## Dataframe shape", 
            "cell_type": "markdown", 
            "metadata": {}
        }, 
        {
            "source": "# Check datafame shape\nToronto.shape", 
            "cell_type": "code", 
            "metadata": {}, 
            "outputs": [
                {
                    "output_type": "execute_result", 
                    "data": {
                        "text/plain": "(212, 3)"
                    }, 
                    "execution_count": 22, 
                    "metadata": {}
                }
            ], 
            "execution_count": 22
        }, 
        {
            "source": "## Number of rows in the dataframe", 
            "cell_type": "markdown", 
            "metadata": {}
        }, 
        {
            "source": "# Print the number of rows in the dataframe\nprint('Number of rows in Toronto dataframe: {}'.format(Toronto.shape[0]))", 
            "cell_type": "code", 
            "metadata": {}, 
            "outputs": [
                {
                    "output_type": "stream", 
                    "name": "stdout", 
                    "text": "Number of rows in Toronto dataframe: 212\n"
                }
            ], 
            "execution_count": 23
        }, 
        {
            "source": "!conda install -c conda-forge geocoder --yes", 
            "cell_type": "code", 
            "metadata": {}, 
            "outputs": [
                {
                    "output_type": "stream", 
                    "name": "stdout", 
                    "text": "Solving environment: done\n\n## Package Plan ##\n\n  environment location: /opt/ibm/conda/miniconda3\n\n  added / updated specs: \n    - geocoder\n\n\nThe following packages will be downloaded:\n\n    package                    |            build\n    ---------------------------|-----------------\n    orderedset-2.0             |           py35_0         685 KB  conda-forge\n    geocoder-1.38.1            |             py_0          52 KB  conda-forge\n    ratelim-0.1.6              |           py35_0           5 KB  conda-forge\n    ------------------------------------------------------------\n                                           Total:         742 KB\n\nThe following NEW packages will be INSTALLED:\n\n    geocoder:   1.38.1-py_0  conda-forge\n    orderedset: 2.0-py35_0   conda-forge\n    ratelim:    0.1.6-py35_0 conda-forge\n\n\nDownloading and Extracting Packages\norderedset-2.0       | 685 KB    | ##################################### | 100% \ngeocoder-1.38.1      | 52 KB     | ##################################### | 100% \nratelim-0.1.6        | 5 KB      | ##################################### | 100% \nPreparing transaction: done\nVerifying transaction: done\nExecuting transaction: done\n"
                }
            ], 
            "execution_count": 29
        }, 
        {
            "source": "## API compensator - at times geocoder.google returns None for the same postal code\n### Create a dictionary of all the postal codes to add to the dictionary at the next step", 
            "cell_type": "markdown", 
            "metadata": {}
        }, 
        {
            "source": "TPS = Toronto['Postcode'].unique()\nlen(TPS)", 
            "cell_type": "code", 
            "metadata": {}, 
            "outputs": [
                {
                    "output_type": "execute_result", 
                    "data": {
                        "text/plain": "103"
                    }, 
                    "execution_count": 30, 
                    "metadata": {}
                }
            ], 
            "execution_count": 30
        }, 
        {
            "source": "## Get offline cache to support throttled Geocoder API", 
            "cell_type": "markdown", 
            "metadata": {}
        }, 
        {
            "source": "!wget -q --no-check-certificate -O 'latitude.pickle' 'https://docs.google.com/uc?export=download&id=1PdEOkPErrpBtDgSlDwczIv_KLlpY-YcO'\n!wget -q --no-check-certificate -O 'longitude.pickle' 'https://docs.google.com/uc?export=download&id=1XujA04dCARQnlxu-X2ItOVcYQz0MMQh9'", 
            "cell_type": "code", 
            "metadata": {}, 
            "outputs": [], 
            "execution_count": 25
        }, 
        {
            "source": "!ls -l *.pickle", 
            "cell_type": "code", 
            "metadata": {}, 
            "outputs": [
                {
                    "output_type": "stream", 
                    "name": "stdout", 
                    "text": "-rw-r--r-- 1 spark spark 1965 Sep 12 02:19 latitude.pickle\r\n-rw-r--r-- 1 spark spark 1965 Sep 12 02:19 longitude.pickle\r\n"
                }
            ], 
            "execution_count": 26
        }, 
        {
            "source": "import pickle\n\nwith open('latitude.pickle', 'rb') as flat:\n    latitude = pickle.load(flat)\nwith open('longitude.pickle', 'rb') as flon:\n    longitude = pickle.load(flon)", 
            "cell_type": "code", 
            "metadata": {}, 
            "outputs": [], 
            "execution_count": 27
        }, 
        {
            "source": "import geocoder\nimport time\n\nfor postcode in TPS:\n    # When offline cache is available use it to avoid Geocoder Google API throttling\n    if postcode in latitude.keys(): \n        continue\n    while True:\n        g = geocoder.google('{}, Toronto, Ontario'.format(postcode))\n        lat_lng_coords = g.latlng\n        if lat_lng_coords == None:\n            print('Trottled response to {}'.format(postcode))\n            time.sleep(5)\n            continue\n        break\n    \n    if lat_lng_coords != None:\n        latitude[postcode] = lat_lng_coords[0]\n        longitude[postcode] = lat_lng_coords[1]\nprint('Successfully populated geo locations')", 
            "cell_type": "code", 
            "metadata": {}, 
            "outputs": [
                {
                    "output_type": "stream", 
                    "name": "stdout", 
                    "text": "Successfully populated geo locations\n"
                }
            ], 
            "execution_count": 31
        }, 
        {
            "source": "lat = []\nlon = []\nfor i, _ in Toronto.iterrows():\n    lat.append(latitude[Toronto.loc[i]['Postcode']])\n    lon.append(longitude[Toronto.loc[i]['Postcode']])\n                        ", 
            "cell_type": "code", 
            "metadata": {}, 
            "outputs": [], 
            "execution_count": 32
        }, 
        {
            "source": "## Add Latitude and Longitude to the dataframe", 
            "cell_type": "markdown", 
            "metadata": {}
        }, 
        {
            "source": "Toronto = Toronto.assign(Latitude = lat, Longitude=lon)\nToronto.head()", 
            "cell_type": "code", 
            "metadata": {}, 
            "outputs": [
                {
                    "output_type": "execute_result", 
                    "data": {
                        "text/plain": "  Postcode           Borough     Neighbourhood   Latitude  Longitude\n2      M3A        North York         Parkwoods  43.753259 -79.329656\n3      M4A        North York  Victoria Village  43.725882 -79.315572\n4      M5A  Downtown Toronto      Harbourfront  43.654260 -79.360636\n5      M5A  Downtown Toronto       Regent Park  43.654260 -79.360636\n6      M6A        North York  Lawrence Heights  43.718518 -79.464763", 
                        "text/html": "<div>\n<style scoped>\n    .dataframe tbody tr th:only-of-type {\n        vertical-align: middle;\n    }\n\n    .dataframe tbody tr th {\n        vertical-align: top;\n    }\n\n    .dataframe thead th {\n        text-align: right;\n    }\n</style>\n<table border=\"1\" class=\"dataframe\">\n  <thead>\n    <tr style=\"text-align: right;\">\n      <th></th>\n      <th>Postcode</th>\n      <th>Borough</th>\n      <th>Neighbourhood</th>\n      <th>Latitude</th>\n      <th>Longitude</th>\n    </tr>\n  </thead>\n  <tbody>\n    <tr>\n      <th>2</th>\n      <td>M3A</td>\n      <td>North York</td>\n      <td>Parkwoods</td>\n      <td>43.753259</td>\n      <td>-79.329656</td>\n    </tr>\n    <tr>\n      <th>3</th>\n      <td>M4A</td>\n      <td>North York</td>\n      <td>Victoria Village</td>\n      <td>43.725882</td>\n      <td>-79.315572</td>\n    </tr>\n    <tr>\n      <th>4</th>\n      <td>M5A</td>\n      <td>Downtown Toronto</td>\n      <td>Harbourfront</td>\n      <td>43.654260</td>\n      <td>-79.360636</td>\n    </tr>\n    <tr>\n      <th>5</th>\n      <td>M5A</td>\n      <td>Downtown Toronto</td>\n      <td>Regent Park</td>\n      <td>43.654260</td>\n      <td>-79.360636</td>\n    </tr>\n    <tr>\n      <th>6</th>\n      <td>M6A</td>\n      <td>North York</td>\n      <td>Lawrence Heights</td>\n      <td>43.718518</td>\n      <td>-79.464763</td>\n    </tr>\n  </tbody>\n</table>\n</div>"
                    }, 
                    "execution_count": 34, 
                    "metadata": {}
                }
            ], 
            "execution_count": 34
        }, 
        {
            "source": "## Dataframe Toronto ", 
            "cell_type": "markdown", 
            "metadata": {}
        }, 
        {
            "source": "Toronto = Toronto.reset_index(drop=True)\nToronto.to_csv('Toronto.csv')\nToronto.head(20)", 
            "cell_type": "code", 
            "metadata": {}, 
            "outputs": [
                {
                    "output_type": "execute_result", 
                    "data": {
                        "text/plain": "   Postcode           Borough     Neighbourhood   Latitude  Longitude\n0       M3A        North York         Parkwoods  43.753259 -79.329656\n1       M4A        North York  Victoria Village  43.725882 -79.315572\n2       M5A  Downtown Toronto      Harbourfront  43.654260 -79.360636\n3       M5A  Downtown Toronto       Regent Park  43.654260 -79.360636\n4       M6A        North York  Lawrence Heights  43.718518 -79.464763\n5       M6A        North York    Lawrence Manor  43.718518 -79.464763\n6       M7A      Queen's Park      Not assigned  43.662301 -79.389494\n7       M9A         Etobicoke  Islington Avenue  43.667856 -79.532242\n8       M1B       Scarborough             Rouge  43.806686 -79.194353\n9       M1B       Scarborough           Malvern  43.806686 -79.194353\n10      M3B        North York   Don Mills North  43.745906 -79.352188\n11      M4B         East York  Woodbine Gardens  43.706397 -79.309937\n12      M4B         East York     Parkview Hill  43.706397 -79.309937\n13      M5B  Downtown Toronto           Ryerson  43.657162 -79.378937\n14      M5B  Downtown Toronto   Garden District  43.657162 -79.378937\n15      M6B        North York         Glencairn  43.709577 -79.445073\n16      M9B         Etobicoke        Cloverdale  43.650943 -79.554724\n17      M9B         Etobicoke         Islington  43.650943 -79.554724\n18      M9B         Etobicoke      Martin Grove  43.650943 -79.554724\n19      M9B         Etobicoke  Princess Gardens  43.650943 -79.554724", 
                        "text/html": "<div>\n<style scoped>\n    .dataframe tbody tr th:only-of-type {\n        vertical-align: middle;\n    }\n\n    .dataframe tbody tr th {\n        vertical-align: top;\n    }\n\n    .dataframe thead th {\n        text-align: right;\n    }\n</style>\n<table border=\"1\" class=\"dataframe\">\n  <thead>\n    <tr style=\"text-align: right;\">\n      <th></th>\n      <th>Postcode</th>\n      <th>Borough</th>\n      <th>Neighbourhood</th>\n      <th>Latitude</th>\n      <th>Longitude</th>\n    </tr>\n  </thead>\n  <tbody>\n    <tr>\n      <th>0</th>\n      <td>M3A</td>\n      <td>North York</td>\n      <td>Parkwoods</td>\n      <td>43.753259</td>\n      <td>-79.329656</td>\n    </tr>\n    <tr>\n      <th>1</th>\n      <td>M4A</td>\n      <td>North York</td>\n      <td>Victoria Village</td>\n      <td>43.725882</td>\n      <td>-79.315572</td>\n    </tr>\n    <tr>\n      <th>2</th>\n      <td>M5A</td>\n      <td>Downtown Toronto</td>\n      <td>Harbourfront</td>\n      <td>43.654260</td>\n      <td>-79.360636</td>\n    </tr>\n    <tr>\n      <th>3</th>\n      <td>M5A</td>\n      <td>Downtown Toronto</td>\n      <td>Regent Park</td>\n      <td>43.654260</td>\n      <td>-79.360636</td>\n    </tr>\n    <tr>\n      <th>4</th>\n      <td>M6A</td>\n      <td>North York</td>\n      <td>Lawrence Heights</td>\n      <td>43.718518</td>\n      <td>-79.464763</td>\n    </tr>\n    <tr>\n      <th>5</th>\n      <td>M6A</td>\n      <td>North York</td>\n      <td>Lawrence Manor</td>\n      <td>43.718518</td>\n      <td>-79.464763</td>\n    </tr>\n    <tr>\n      <th>6</th>\n      <td>M7A</td>\n      <td>Queen's Park</td>\n      <td>Not assigned</td>\n      <td>43.662301</td>\n      <td>-79.389494</td>\n    </tr>\n    <tr>\n      <th>7</th>\n      <td>M9A</td>\n      <td>Etobicoke</td>\n      <td>Islington Avenue</td>\n      <td>43.667856</td>\n      <td>-79.532242</td>\n    </tr>\n    <tr>\n      <th>8</th>\n      <td>M1B</td>\n      <td>Scarborough</td>\n      <td>Rouge</td>\n      <td>43.806686</td>\n      <td>-79.194353</td>\n    </tr>\n    <tr>\n      <th>9</th>\n      <td>M1B</td>\n      <td>Scarborough</td>\n      <td>Malvern</td>\n      <td>43.806686</td>\n      <td>-79.194353</td>\n    </tr>\n    <tr>\n      <th>10</th>\n      <td>M3B</td>\n      <td>North York</td>\n      <td>Don Mills North</td>\n      <td>43.745906</td>\n      <td>-79.352188</td>\n    </tr>\n    <tr>\n      <th>11</th>\n      <td>M4B</td>\n      <td>East York</td>\n      <td>Woodbine Gardens</td>\n      <td>43.706397</td>\n      <td>-79.309937</td>\n    </tr>\n    <tr>\n      <th>12</th>\n      <td>M4B</td>\n      <td>East York</td>\n      <td>Parkview Hill</td>\n      <td>43.706397</td>\n      <td>-79.309937</td>\n    </tr>\n    <tr>\n      <th>13</th>\n      <td>M5B</td>\n      <td>Downtown Toronto</td>\n      <td>Ryerson</td>\n      <td>43.657162</td>\n      <td>-79.378937</td>\n    </tr>\n    <tr>\n      <th>14</th>\n      <td>M5B</td>\n      <td>Downtown Toronto</td>\n      <td>Garden District</td>\n      <td>43.657162</td>\n      <td>-79.378937</td>\n    </tr>\n    <tr>\n      <th>15</th>\n      <td>M6B</td>\n      <td>North York</td>\n      <td>Glencairn</td>\n      <td>43.709577</td>\n      <td>-79.445073</td>\n    </tr>\n    <tr>\n      <th>16</th>\n      <td>M9B</td>\n      <td>Etobicoke</td>\n      <td>Cloverdale</td>\n      <td>43.650943</td>\n      <td>-79.554724</td>\n    </tr>\n    <tr>\n      <th>17</th>\n      <td>M9B</td>\n      <td>Etobicoke</td>\n      <td>Islington</td>\n      <td>43.650943</td>\n      <td>-79.554724</td>\n    </tr>\n    <tr>\n      <th>18</th>\n      <td>M9B</td>\n      <td>Etobicoke</td>\n      <td>Martin Grove</td>\n      <td>43.650943</td>\n      <td>-79.554724</td>\n    </tr>\n    <tr>\n      <th>19</th>\n      <td>M9B</td>\n      <td>Etobicoke</td>\n      <td>Princess Gardens</td>\n      <td>43.650943</td>\n      <td>-79.554724</td>\n    </tr>\n  </tbody>\n</table>\n</div>"
                    }, 
                    "execution_count": 36, 
                    "metadata": {}
                }
            ], 
            "execution_count": 36
        }, 
        {
            "source": "# Thank you for reviwing my work!", 
            "cell_type": "markdown", 
            "metadata": {}
        }
    ], 
    "metadata": {
        "kernelspec": {
            "display_name": "Python 3.5 with Spark", 
            "name": "python3", 
            "language": "python3"
        }, 
        "language_info": {
            "mimetype": "text/x-python", 
            "nbconvert_exporter": "python", 
            "version": "3.5.4", 
            "name": "python", 
            "pygments_lexer": "ipython3", 
            "file_extension": ".py", 
            "codemirror_mode": {
                "version": 3, 
                "name": "ipython"
            }
        }
    }, 
    "nbformat": 4
}