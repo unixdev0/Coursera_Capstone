{
    "nbformat_minor": 1, 
    "cells": [
        {
            "source": "# Applied Data Science - Capstone Project", 
            "cell_type": "markdown", 
            "metadata": {
                "collapsed": true
            }
        }, 
        {
            "source": "## What's required in this assignment\n### To create the above dataframe:\n\n- The dataframe will consist of three columns: PostalCode, Borough, and Neighborhood - <span style=\"color: green\"><big>&#10004;</big></span>\n- Only process the cells that have complete information and not greyed out or not assigned  - <span style=\"color: green\"><big>&#10004;</big></span>\n- For each cell, the postal code will go under the PostalCode column, the first line under the postal code will go under Borough, and the remaining lines will go under the Neighborhood column formatted nicely and separated with commas as shown in the sample dataframe above. For example, for cell (1, 3) on the Wikipedia page, M3A will go under PostalCode, North York will go under Borough, and Parkwoods will go under Neighborhood  - <span style=\"color: green\"><big>&#10004;</big></span>\n- If a cell has only one line under the postal code, like cell (1, 7), then that line will go under the Borough and the Neighborhood columns. So for cell (1, 7), the value of the Borough and the Neighborhood column will be Queen's Park  - <span style=\"color: green\"><big>&#10004;</big></span>\n- Clean your Notebook and add Markdown cells to explain your work and any assumptions you are making  - <span style=\"color: green\"><big>&#10004;</big></span>\n- In the last cell of your notebook, use the .shape method to print the number of rows of your dataframe  - <span style=\"color: green\"><big>&#10004;</big></span>\n- Submit a link to your Notebook on your Github repository - <span style=\"color: green\"><big>&#10004;</big></span>", 
            "cell_type": "markdown", 
            "metadata": {}
        }, 
        {
            "source": "## Install required Python packages", 
            "cell_type": "markdown", 
            "metadata": {}
        }, 
        {
            "source": "!conda install -c conda-forge geopy --yes \n!conda install -c conda-forge folium --yes \n!conda install -c conda-forge pyquery --yes", 
            "cell_type": "code", 
            "metadata": {}, 
            "outputs": [
                {
                    "output_type": "stream", 
                    "name": "stdout", 
                    "text": "Solving environment: done\n\n# All requested packages already installed.\n\nSolving environment: done\n\n# All requested packages already installed.\n\nSolving environment: done\n\n# All requested packages already installed.\n\n"
                }
            ], 
            "execution_count": 43
        }, 
        {
            "source": "## Get Wiki page containing Toronto Boroughs/Neighborhoods\n### Note: using pandas.io.hmtl to get the wiki table into pandas DataFrame", 
            "cell_type": "markdown", 
            "metadata": {}
        }, 
        {
            "source": "import requests\nimport numpy as np\nimport pandas as pd\nfrom pandas.io.html import read_html\n\n# Define the wiki page url var\nWIKI_URL = \"https://en.wikipedia.org/wiki/List_of_postal_codes_of_Canada:_M\"\n# Issue HTTP request to get the URL content\nreq = requests.get(WIKI_URL)\n# Use pandas read_html to read in the content\nwikitables = read_html(WIKI_URL, index_col=None, header=0, attrs={\"class\":[\"sortable\",\"wikitable\"]})\n# Get pandas dataframe\nToronto = wikitables[0]", 
            "cell_type": "code", 
            "metadata": {}, 
            "outputs": [], 
            "execution_count": 53
        }, 
        {
            "source": "## Data cleaning", 
            "cell_type": "markdown", 
            "metadata": {}
        }, 
        {
            "source": "# Empty entries to np.nan to drop them in the next step\nToronto['Borough'].replace('', np.nan, inplace=True)\n# Drop np.nan to remove rows not containing meaningful data\nToronto.dropna(subset=['Borough'], inplace=True)\n# Leave behind rows containing 'Not assigned' in 'Borough'\nToronto = Toronto[Toronto['Borough'] != 'Not assigned']", 
            "cell_type": "code", 
            "metadata": {}, 
            "outputs": [], 
            "execution_count": 54
        }, 
        {
            "source": "## Data processing - 'Not assigned' to value", 
            "cell_type": "markdown", 
            "metadata": {}
        }, 
        {
            "source": "# Iterate over the dataframe and fix 'Not assigned' for column 'Neighborhood'\nfor i, _ in Toronto.iterrows():\n    if Toronto.loc[i]['Neighbourhood'] == 'Not assigned': Toronto.loc[i]['Neighborhood'] = Toronto.loc[i]['Borough']", 
            "cell_type": "code", 
            "metadata": {}, 
            "outputs": [], 
            "execution_count": 55
        }, 
        {
            "source": "## Reindex the dataframe", 
            "cell_type": "markdown", 
            "metadata": {}
        }, 
        {
            "source": "# Need to fix indexing after performing manipulations with the dataframe\nToronto.reset_index(inplace=True)", 
            "cell_type": "code", 
            "metadata": {}, 
            "outputs": [], 
            "execution_count": 51
        }, 
        {
            "source": "## Dataframe shape", 
            "cell_type": "markdown", 
            "metadata": {}
        }, 
        {
            "source": "# Check datafame shape\nToronto.shape", 
            "cell_type": "code", 
            "metadata": {}, 
            "outputs": [
                {
                    "output_type": "execute_result", 
                    "data": {
                        "text/plain": "(212, 3)"
                    }, 
                    "execution_count": 57, 
                    "metadata": {}
                }
            ], 
            "execution_count": 57
        }, 
        {
            "source": "## Number of rows in the dataframe", 
            "cell_type": "markdown", 
            "metadata": {}
        }, 
        {
            "source": "# Print the number of rows in the dataframe\nprint('Number of rows in Toronto dataframe: {}'.format(Toronto.shape[0]))", 
            "cell_type": "code", 
            "metadata": {}, 
            "outputs": [
                {
                    "output_type": "stream", 
                    "name": "stdout", 
                    "text": "Number of rows in Toronto dataframe: 212\n"
                }
            ], 
            "execution_count": 58
        }, 
        {
            "source": "# Thank you for reviwing my work!", 
            "cell_type": "markdown", 
            "metadata": {}
        }
    ], 
    "metadata": {
        "kernelspec": {
            "display_name": "Python 3.5 with Spark", 
            "name": "python3", 
            "language": "python3"
        }, 
        "language_info": {
            "mimetype": "text/x-python", 
            "nbconvert_exporter": "python", 
            "version": "3.5.4", 
            "name": "python", 
            "pygments_lexer": "ipython3", 
            "file_extension": ".py", 
            "codemirror_mode": {
                "version": 3, 
                "name": "ipython"
            }
        }
    }, 
    "nbformat": 4
}