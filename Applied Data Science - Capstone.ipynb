{
    "nbformat_minor": 1, 
    "cells": [
        {
            "source": "# Applied Data Science - Capstone Project", 
            "cell_type": "markdown", 
            "metadata": {
                "collapsed": true
            }
        }, 
        {
            "source": "## What's required in this assignment\n### To create the above dataframe:\n\n- The dataframe will consist of three columns: PostalCode, Borough, and Neighborhood - <span style=\"color: green\"><big>&#10004;</big></span>\n- Only process the cells that have complete information and not greyed out or not assigned  - <span style=\"color: green\"><big>&#10004;</big></span>\n- For each cell, the postal code will go under the PostalCode column, the first line under the postal code will go under Borough, and the remaining lines will go under the Neighborhood column formatted nicely and separated with commas as shown in the sample dataframe above. For example, for cell (1, 3) on the Wikipedia page, M3A will go under PostalCode, North York will go under Borough, and Parkwoods will go under Neighborhood  - <span style=\"color: green\"><big>&#10004;</big></span>\n- If a cell has only one line under the postal code, like cell (1, 7), then that line will go under the Borough and the Neighborhood columns. So for cell (1, 7), the value of the Borough and the Neighborhood column will be Queen's Park  - <span style=\"color: green\"><big>&#10004;</big></span>\n- Clean your Notebook and add Markdown cells to explain your work and any assumptions you are making  - <span style=\"color: green\"><big>&#10004;</big></span>\n- In the last cell of your notebook, use the .shape method to print the number of rows of your dataframe  - <span style=\"color: green\"><big>&#10004;</big></span>\n- Submit a link to your Notebook on your Github repository - <span style=\"color: green\"><big>&#10004;</big></span>", 
            "cell_type": "markdown", 
            "metadata": {}
        }, 
        {
            "source": "## Install required Python packages", 
            "cell_type": "markdown", 
            "metadata": {}
        }, 
        {
            "source": "!conda install -c conda-forge geopy --yes \n!conda install -c conda-forge folium --yes \n!conda install -c conda-forge pyquery --yes", 
            "cell_type": "code", 
            "metadata": {}, 
            "outputs": [
                {
                    "output_type": "stream", 
                    "name": "stdout", 
                    "text": "Solving environment: done\n\n# All requested packages already installed.\n\nSolving environment: done\n\n# All requested packages already installed.\n\nSolving environment: done\n\n# All requested packages already installed.\n\n"
                }
            ], 
            "execution_count": 43
        }, 
        {
            "source": "## Get Wiki page containing Toronto Boroughs/Neighborhoods\n### Note: using pandas.io.hmtl to get the wiki table into pandas DataFrame", 
            "cell_type": "markdown", 
            "metadata": {}
        }, 
        {
            "source": "import pandas as pd\nimport requests\nfrom bs4 import BeautifulSoup\n\nres = requests.get(\"https://en.wikipedia.org/wiki/List_of_postal_codes_of_Canada:_M\")\nsoup = BeautifulSoup(res.content,'lxml')\nwikitables = soup.find_all('table') \nToronto = pd.read_html(str(wikitables[0]), index_col=None, header=0)[0]\nToronto.head()", 
            "cell_type": "code", 
            "metadata": {}, 
            "outputs": [
                {
                    "output_type": "execute_result", 
                    "data": {
                        "text/html": "<div>\n<style scoped>\n    .dataframe tbody tr th:only-of-type {\n        vertical-align: middle;\n    }\n\n    .dataframe tbody tr th {\n        vertical-align: top;\n    }\n\n    .dataframe thead th {\n        text-align: right;\n    }\n</style>\n<table border=\"1\" class=\"dataframe\">\n  <thead>\n    <tr style=\"text-align: right;\">\n      <th></th>\n      <th>Postcode</th>\n      <th>Borough</th>\n      <th>Neighbourhood</th>\n    </tr>\n  </thead>\n  <tbody>\n    <tr>\n      <th>0</th>\n      <td>M1A</td>\n      <td>Not assigned</td>\n      <td>Not assigned</td>\n    </tr>\n    <tr>\n      <th>1</th>\n      <td>M2A</td>\n      <td>Not assigned</td>\n      <td>Not assigned</td>\n    </tr>\n    <tr>\n      <th>2</th>\n      <td>M3A</td>\n      <td>North York</td>\n      <td>Parkwoods</td>\n    </tr>\n    <tr>\n      <th>3</th>\n      <td>M4A</td>\n      <td>North York</td>\n      <td>Victoria Village</td>\n    </tr>\n    <tr>\n      <th>4</th>\n      <td>M5A</td>\n      <td>Downtown Toronto</td>\n      <td>Harbourfront</td>\n    </tr>\n  </tbody>\n</table>\n</div>", 
                        "text/plain": "  Postcode           Borough     Neighbourhood\n0      M1A      Not assigned      Not assigned\n1      M2A      Not assigned      Not assigned\n2      M3A        North York         Parkwoods\n3      M4A        North York  Victoria Village\n4      M5A  Downtown Toronto      Harbourfront"
                    }, 
                    "execution_count": 71, 
                    "metadata": {}
                }
            ], 
            "execution_count": 71
        }, 
        {
            "source": "# TO VERIFY THAT BOTH METHODS PRODUCE SIMILAR DIMENSIONS\nToronto.shape", 
            "cell_type": "code", 
            "metadata": {}, 
            "outputs": [
                {
                    "output_type": "execute_result", 
                    "data": {
                        "text/plain": "(289, 3)"
                    }, 
                    "execution_count": 72, 
                    "metadata": {}
                }
            ], 
            "execution_count": 72
        }, 
        {
            "source": "## Alternative way to read in the content and produce a dataframe using pandas.io.html\n### Note: Results are consistent between the two methods", 
            "cell_type": "markdown", 
            "metadata": {}
        }, 
        {
            "source": "import requests\nimport numpy as np\nimport pandas as pd\nfrom pandas.io.html import read_html\n\n# Define the wiki page url var\nWIKI_URL = \"https://en.wikipedia.org/wiki/List_of_postal_codes_of_Canada:_M\"\n# Issue HTTP request to get the URL content\nreq = requests.get(WIKI_URL)\n# Use pandas read_html to read in the content\nwikitables = read_html(WIKI_URL, index_col=None, header=0, attrs={\"class\":[\"sortable\",\"wikitable\"]})\n# Get pandas dataframe\nToronto = wikitables[0]\nToronto.head()", 
            "cell_type": "code", 
            "metadata": {}, 
            "outputs": [
                {
                    "output_type": "execute_result", 
                    "data": {
                        "text/html": "<div>\n<style scoped>\n    .dataframe tbody tr th:only-of-type {\n        vertical-align: middle;\n    }\n\n    .dataframe tbody tr th {\n        vertical-align: top;\n    }\n\n    .dataframe thead th {\n        text-align: right;\n    }\n</style>\n<table border=\"1\" class=\"dataframe\">\n  <thead>\n    <tr style=\"text-align: right;\">\n      <th></th>\n      <th>Postcode</th>\n      <th>Borough</th>\n      <th>Neighbourhood</th>\n    </tr>\n  </thead>\n  <tbody>\n    <tr>\n      <th>0</th>\n      <td>M1A</td>\n      <td>Not assigned</td>\n      <td>Not assigned</td>\n    </tr>\n    <tr>\n      <th>1</th>\n      <td>M2A</td>\n      <td>Not assigned</td>\n      <td>Not assigned</td>\n    </tr>\n    <tr>\n      <th>2</th>\n      <td>M3A</td>\n      <td>North York</td>\n      <td>Parkwoods</td>\n    </tr>\n    <tr>\n      <th>3</th>\n      <td>M4A</td>\n      <td>North York</td>\n      <td>Victoria Village</td>\n    </tr>\n    <tr>\n      <th>4</th>\n      <td>M5A</td>\n      <td>Downtown Toronto</td>\n      <td>Harbourfront</td>\n    </tr>\n  </tbody>\n</table>\n</div>", 
                        "text/plain": "  Postcode           Borough     Neighbourhood\n0      M1A      Not assigned      Not assigned\n1      M2A      Not assigned      Not assigned\n2      M3A        North York         Parkwoods\n3      M4A        North York  Victoria Village\n4      M5A  Downtown Toronto      Harbourfront"
                    }, 
                    "execution_count": 73, 
                    "metadata": {}
                }
            ], 
            "execution_count": 73
        }, 
        {
            "source": "# TO VERIFY THAT BOTH METHODS PRODUCE SIMILAR DIMENSIONS\nToronto.shape", 
            "cell_type": "code", 
            "metadata": {}, 
            "outputs": [
                {
                    "output_type": "execute_result", 
                    "data": {
                        "text/plain": "(289, 3)"
                    }, 
                    "execution_count": 74, 
                    "metadata": {}
                }
            ], 
            "execution_count": 74
        }, 
        {
            "source": "## Data cleaning", 
            "cell_type": "markdown", 
            "metadata": {}
        }, 
        {
            "source": "# Empty entries to np.nan to drop them in the next step\nToronto['Borough'].replace('', np.nan, inplace=True)\n# Drop np.nan to remove rows not containing meaningful data\nToronto.dropna(subset=['Borough'], inplace=True)\n# Leave behind rows containing 'Not assigned' in 'Borough'\nToronto = Toronto[Toronto['Borough'] != 'Not assigned']", 
            "cell_type": "code", 
            "metadata": {}, 
            "outputs": [], 
            "execution_count": 75
        }, 
        {
            "source": "## Data processing - 'Not assigned' to value", 
            "cell_type": "markdown", 
            "metadata": {}
        }, 
        {
            "source": "# Iterate over the dataframe and fix 'Not assigned' for column 'Neighborhood'\nfor i, _ in Toronto.iterrows():\n    if Toronto.loc[i]['Neighbourhood'] == 'Not assigned': Toronto.loc[i]['Neighborhood'] = Toronto.loc[i]['Borough']", 
            "cell_type": "code", 
            "metadata": {}, 
            "outputs": [], 
            "execution_count": 76
        }, 
        {
            "source": "## Reindex the dataframe", 
            "cell_type": "markdown", 
            "metadata": {}
        }, 
        {
            "source": "# Need to fix indexing after performing manipulations with the dataframe\nToronto.reset_index(inplace=True)", 
            "cell_type": "code", 
            "metadata": {}, 
            "outputs": [], 
            "execution_count": 77
        }, 
        {
            "source": "## Dataframe shape", 
            "cell_type": "markdown", 
            "metadata": {}
        }, 
        {
            "source": "# Check datafame shape. Note: adds extra index column after resetting the index on the data frame. This is expected\nToronto.shape", 
            "cell_type": "code", 
            "metadata": {}, 
            "outputs": [
                {
                    "output_type": "execute_result", 
                    "data": {
                        "text/plain": "(212, 4)"
                    }, 
                    "execution_count": 80, 
                    "metadata": {}
                }
            ], 
            "execution_count": 80
        }, 
        {
            "source": "## Number of rows in the dataframe", 
            "cell_type": "markdown", 
            "metadata": {}
        }, 
        {
            "source": "# Print the number of rows in the dataframe\nprint('Number of rows in Toronto dataframe: {}'.format(Toronto.shape[0]))", 
            "cell_type": "code", 
            "metadata": {}, 
            "outputs": [
                {
                    "output_type": "stream", 
                    "name": "stdout", 
                    "text": "Number of rows in Toronto dataframe: 212\n"
                }
            ], 
            "execution_count": 79
        }, 
        {
            "source": "# Thank you for reviwing my work!", 
            "cell_type": "markdown", 
            "metadata": {}
        }
    ], 
    "metadata": {
        "kernelspec": {
            "display_name": "Python 3.5 with Spark", 
            "name": "python3", 
            "language": "python3"
        }, 
        "language_info": {
            "mimetype": "text/x-python", 
            "nbconvert_exporter": "python", 
            "version": "3.5.4", 
            "name": "python", 
            "pygments_lexer": "ipython3", 
            "file_extension": ".py", 
            "codemirror_mode": {
                "version": 3, 
                "name": "ipython"
            }
        }
    }, 
    "nbformat": 4
}